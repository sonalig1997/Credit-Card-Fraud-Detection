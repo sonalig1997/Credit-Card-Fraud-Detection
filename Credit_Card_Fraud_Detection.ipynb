{
  "nbformat": 4,
  "nbformat_minor": 0,
  "metadata": {
    "colab": {
      "name": "Credit Card Fraud Detection.ipynb",
      "provenance": [],
      "mount_file_id": "1Q1u6UYy8DAmiynPIkQ_K4TKngLdAyY7Z",
      "authorship_tag": "ABX9TyPI4gLHE78WNqjyOr2pWuk7",
      "include_colab_link": true
    },
    "kernelspec": {
      "name": "python3",
      "display_name": "Python 3"
    }
  },
  "cells": [
    {
      "cell_type": "markdown",
      "metadata": {
        "id": "view-in-github",
        "colab_type": "text"
      },
      "source": [
        "<a href=\"https://colab.research.google.com/github/sonalig1997/Credit-Card-Fraud-Detection/blob/main/Credit_Card_Fraud_Detection.ipynb\" target=\"_parent\"><img src=\"https://colab.research.google.com/assets/colab-badge.svg\" alt=\"Open In Colab\"/></a>"
      ]
    },
    {
      "cell_type": "code",
      "metadata": {
        "id": "MN1pVyDo1XV4"
      },
      "source": [
        "# IMPORTING PACKAGES\r\n",
        "\r\n",
        "import pandas as pd # data processing\r\n",
        "import numpy as np # working with arrays\r\n",
        "import matplotlib.pyplot as plt # visualization\r\n",
        "import seaborn as sns # visualization\r\n",
        "from matplotlib import gridspec \r\n",
        "\r\n",
        "from sklearn.preprocessing import StandardScaler # data normalization\r\n",
        "from sklearn.model_selection import train_test_split # data split\r\n",
        "from sklearn.tree import DecisionTreeClassifier # Decision tree algorithm\r\n",
        "from sklearn.neighbors import KNeighborsClassifier # KNN algorithm\r\n",
        "from sklearn.linear_model import LogisticRegression # Logistic regression algorithm\r\n",
        "from sklearn.svm import SVC # SVM algorithm\r\n",
        "from sklearn.ensemble import RandomForestClassifier # Random forest tree algorithm\r\n",
        "from xgboost import XGBClassifier # XGBoost algorithm\r\n",
        "\r\n",
        "from sklearn.metrics import confusion_matrix # evaluation metric\r\n",
        "from sklearn.metrics import accuracy_score # evaluation metric\r\n",
        "from sklearn.metrics import f1_score # evaluation metric"
      ],
      "execution_count": 84,
      "outputs": []
    },
    {
      "cell_type": "code",
      "metadata": {
        "id": "pikIjQlxt2yu"
      },
      "source": [
        "# Load the dataset from the csv file using pandas \r\n",
        "# best way is to mount the drive on colab and \r\n",
        "# copy the path for the csv file \r\n",
        "data = pd.read_csv(\"creditcard.csv\") \r\n"
      ],
      "execution_count": 85,
      "outputs": []
    },
    {
      "cell_type": "code",
      "metadata": {
        "colab": {
          "base_uri": "https://localhost:8080/",
          "height": 215
        },
        "id": "vYKQXc9Jt-qu",
        "outputId": "51bc0ac4-96de-4aba-d995-4e5c0688a104"
      },
      "source": [
        "# Grab a peek at the data \r\n",
        "data.head() \r\n"
      ],
      "execution_count": 86,
      "outputs": [
        {
          "output_type": "execute_result",
          "data": {
            "text/html": [
              "<div>\n",
              "<style scoped>\n",
              "    .dataframe tbody tr th:only-of-type {\n",
              "        vertical-align: middle;\n",
              "    }\n",
              "\n",
              "    .dataframe tbody tr th {\n",
              "        vertical-align: top;\n",
              "    }\n",
              "\n",
              "    .dataframe thead th {\n",
              "        text-align: right;\n",
              "    }\n",
              "</style>\n",
              "<table border=\"1\" class=\"dataframe\">\n",
              "  <thead>\n",
              "    <tr style=\"text-align: right;\">\n",
              "      <th></th>\n",
              "      <th>Time</th>\n",
              "      <th>V1</th>\n",
              "      <th>V2</th>\n",
              "      <th>V3</th>\n",
              "      <th>V4</th>\n",
              "      <th>V5</th>\n",
              "      <th>V6</th>\n",
              "      <th>V7</th>\n",
              "      <th>V8</th>\n",
              "      <th>V9</th>\n",
              "      <th>V10</th>\n",
              "      <th>V11</th>\n",
              "      <th>V12</th>\n",
              "      <th>V13</th>\n",
              "      <th>V14</th>\n",
              "      <th>V15</th>\n",
              "      <th>V16</th>\n",
              "      <th>V17</th>\n",
              "      <th>V18</th>\n",
              "      <th>V19</th>\n",
              "      <th>V20</th>\n",
              "      <th>V21</th>\n",
              "      <th>V22</th>\n",
              "      <th>V23</th>\n",
              "      <th>V24</th>\n",
              "      <th>V25</th>\n",
              "      <th>V26</th>\n",
              "      <th>V27</th>\n",
              "      <th>V28</th>\n",
              "      <th>Amount</th>\n",
              "      <th>Class</th>\n",
              "    </tr>\n",
              "  </thead>\n",
              "  <tbody>\n",
              "    <tr>\n",
              "      <th>0</th>\n",
              "      <td>0.0</td>\n",
              "      <td>-1.359807</td>\n",
              "      <td>-0.072781</td>\n",
              "      <td>2.536347</td>\n",
              "      <td>1.378155</td>\n",
              "      <td>-0.338321</td>\n",
              "      <td>0.462388</td>\n",
              "      <td>0.239599</td>\n",
              "      <td>0.098698</td>\n",
              "      <td>0.363787</td>\n",
              "      <td>0.090794</td>\n",
              "      <td>-0.551600</td>\n",
              "      <td>-0.617801</td>\n",
              "      <td>-0.991390</td>\n",
              "      <td>-0.311169</td>\n",
              "      <td>1.468177</td>\n",
              "      <td>-0.470401</td>\n",
              "      <td>0.207971</td>\n",
              "      <td>0.025791</td>\n",
              "      <td>0.403993</td>\n",
              "      <td>0.251412</td>\n",
              "      <td>-0.018307</td>\n",
              "      <td>0.277838</td>\n",
              "      <td>-0.110474</td>\n",
              "      <td>0.066928</td>\n",
              "      <td>0.128539</td>\n",
              "      <td>-0.189115</td>\n",
              "      <td>0.133558</td>\n",
              "      <td>-0.021053</td>\n",
              "      <td>149.62</td>\n",
              "      <td>0</td>\n",
              "    </tr>\n",
              "    <tr>\n",
              "      <th>1</th>\n",
              "      <td>0.0</td>\n",
              "      <td>1.191857</td>\n",
              "      <td>0.266151</td>\n",
              "      <td>0.166480</td>\n",
              "      <td>0.448154</td>\n",
              "      <td>0.060018</td>\n",
              "      <td>-0.082361</td>\n",
              "      <td>-0.078803</td>\n",
              "      <td>0.085102</td>\n",
              "      <td>-0.255425</td>\n",
              "      <td>-0.166974</td>\n",
              "      <td>1.612727</td>\n",
              "      <td>1.065235</td>\n",
              "      <td>0.489095</td>\n",
              "      <td>-0.143772</td>\n",
              "      <td>0.635558</td>\n",
              "      <td>0.463917</td>\n",
              "      <td>-0.114805</td>\n",
              "      <td>-0.183361</td>\n",
              "      <td>-0.145783</td>\n",
              "      <td>-0.069083</td>\n",
              "      <td>-0.225775</td>\n",
              "      <td>-0.638672</td>\n",
              "      <td>0.101288</td>\n",
              "      <td>-0.339846</td>\n",
              "      <td>0.167170</td>\n",
              "      <td>0.125895</td>\n",
              "      <td>-0.008983</td>\n",
              "      <td>0.014724</td>\n",
              "      <td>2.69</td>\n",
              "      <td>0</td>\n",
              "    </tr>\n",
              "    <tr>\n",
              "      <th>2</th>\n",
              "      <td>1.0</td>\n",
              "      <td>-1.358354</td>\n",
              "      <td>-1.340163</td>\n",
              "      <td>1.773209</td>\n",
              "      <td>0.379780</td>\n",
              "      <td>-0.503198</td>\n",
              "      <td>1.800499</td>\n",
              "      <td>0.791461</td>\n",
              "      <td>0.247676</td>\n",
              "      <td>-1.514654</td>\n",
              "      <td>0.207643</td>\n",
              "      <td>0.624501</td>\n",
              "      <td>0.066084</td>\n",
              "      <td>0.717293</td>\n",
              "      <td>-0.165946</td>\n",
              "      <td>2.345865</td>\n",
              "      <td>-2.890083</td>\n",
              "      <td>1.109969</td>\n",
              "      <td>-0.121359</td>\n",
              "      <td>-2.261857</td>\n",
              "      <td>0.524980</td>\n",
              "      <td>0.247998</td>\n",
              "      <td>0.771679</td>\n",
              "      <td>0.909412</td>\n",
              "      <td>-0.689281</td>\n",
              "      <td>-0.327642</td>\n",
              "      <td>-0.139097</td>\n",
              "      <td>-0.055353</td>\n",
              "      <td>-0.059752</td>\n",
              "      <td>378.66</td>\n",
              "      <td>0</td>\n",
              "    </tr>\n",
              "    <tr>\n",
              "      <th>3</th>\n",
              "      <td>1.0</td>\n",
              "      <td>-0.966272</td>\n",
              "      <td>-0.185226</td>\n",
              "      <td>1.792993</td>\n",
              "      <td>-0.863291</td>\n",
              "      <td>-0.010309</td>\n",
              "      <td>1.247203</td>\n",
              "      <td>0.237609</td>\n",
              "      <td>0.377436</td>\n",
              "      <td>-1.387024</td>\n",
              "      <td>-0.054952</td>\n",
              "      <td>-0.226487</td>\n",
              "      <td>0.178228</td>\n",
              "      <td>0.507757</td>\n",
              "      <td>-0.287924</td>\n",
              "      <td>-0.631418</td>\n",
              "      <td>-1.059647</td>\n",
              "      <td>-0.684093</td>\n",
              "      <td>1.965775</td>\n",
              "      <td>-1.232622</td>\n",
              "      <td>-0.208038</td>\n",
              "      <td>-0.108300</td>\n",
              "      <td>0.005274</td>\n",
              "      <td>-0.190321</td>\n",
              "      <td>-1.175575</td>\n",
              "      <td>0.647376</td>\n",
              "      <td>-0.221929</td>\n",
              "      <td>0.062723</td>\n",
              "      <td>0.061458</td>\n",
              "      <td>123.50</td>\n",
              "      <td>0</td>\n",
              "    </tr>\n",
              "    <tr>\n",
              "      <th>4</th>\n",
              "      <td>2.0</td>\n",
              "      <td>-1.158233</td>\n",
              "      <td>0.877737</td>\n",
              "      <td>1.548718</td>\n",
              "      <td>0.403034</td>\n",
              "      <td>-0.407193</td>\n",
              "      <td>0.095921</td>\n",
              "      <td>0.592941</td>\n",
              "      <td>-0.270533</td>\n",
              "      <td>0.817739</td>\n",
              "      <td>0.753074</td>\n",
              "      <td>-0.822843</td>\n",
              "      <td>0.538196</td>\n",
              "      <td>1.345852</td>\n",
              "      <td>-1.119670</td>\n",
              "      <td>0.175121</td>\n",
              "      <td>-0.451449</td>\n",
              "      <td>-0.237033</td>\n",
              "      <td>-0.038195</td>\n",
              "      <td>0.803487</td>\n",
              "      <td>0.408542</td>\n",
              "      <td>-0.009431</td>\n",
              "      <td>0.798278</td>\n",
              "      <td>-0.137458</td>\n",
              "      <td>0.141267</td>\n",
              "      <td>-0.206010</td>\n",
              "      <td>0.502292</td>\n",
              "      <td>0.219422</td>\n",
              "      <td>0.215153</td>\n",
              "      <td>69.99</td>\n",
              "      <td>0</td>\n",
              "    </tr>\n",
              "  </tbody>\n",
              "</table>\n",
              "</div>"
            ],
            "text/plain": [
              "   Time        V1        V2        V3  ...       V27       V28  Amount  Class\n",
              "0   0.0 -1.359807 -0.072781  2.536347  ...  0.133558 -0.021053  149.62      0\n",
              "1   0.0  1.191857  0.266151  0.166480  ... -0.008983  0.014724    2.69      0\n",
              "2   1.0 -1.358354 -1.340163  1.773209  ... -0.055353 -0.059752  378.66      0\n",
              "3   1.0 -0.966272 -0.185226  1.792993  ...  0.062723  0.061458  123.50      0\n",
              "4   2.0 -1.158233  0.877737  1.548718  ...  0.219422  0.215153   69.99      0\n",
              "\n",
              "[5 rows x 31 columns]"
            ]
          },
          "metadata": {
            "tags": []
          },
          "execution_count": 86
        }
      ]
    },
    {
      "cell_type": "code",
      "metadata": {
        "colab": {
          "base_uri": "https://localhost:8080/"
        },
        "id": "k0DR2Y6vuC0x",
        "outputId": "fdb7abf6-aa68-4e3e-8459-506b491d53c6"
      },
      "source": [
        "# Print the shape of the data \r\n",
        "# data = data.sample(frac = 0.1, random_state = 48) \r\n",
        "print(data.shape) \r\n",
        "print(data.describe()) \r\n"
      ],
      "execution_count": 87,
      "outputs": [
        {
          "output_type": "stream",
          "text": [
            "(284807, 31)\n",
            "                Time            V1  ...         Amount          Class\n",
            "count  284807.000000  2.848070e+05  ...  284807.000000  284807.000000\n",
            "mean    94813.859575  3.919560e-15  ...      88.349619       0.001727\n",
            "std     47488.145955  1.958696e+00  ...     250.120109       0.041527\n",
            "min         0.000000 -5.640751e+01  ...       0.000000       0.000000\n",
            "25%     54201.500000 -9.203734e-01  ...       5.600000       0.000000\n",
            "50%     84692.000000  1.810880e-02  ...      22.000000       0.000000\n",
            "75%    139320.500000  1.315642e+00  ...      77.165000       0.000000\n",
            "max    172792.000000  2.454930e+00  ...   25691.160000       1.000000\n",
            "\n",
            "[8 rows x 31 columns]\n"
          ],
          "name": "stdout"
        }
      ]
    },
    {
      "cell_type": "code",
      "metadata": {
        "colab": {
          "base_uri": "https://localhost:8080/",
          "height": 304
        },
        "id": "7-FAh5Iew9hW",
        "outputId": "e7bcf757-ec06-45ce-bfc0-572831657103"
      },
      "source": [
        "#Describing the data\r\n",
        "data.describe().round()"
      ],
      "execution_count": 88,
      "outputs": [
        {
          "output_type": "execute_result",
          "data": {
            "text/html": [
              "<div>\n",
              "<style scoped>\n",
              "    .dataframe tbody tr th:only-of-type {\n",
              "        vertical-align: middle;\n",
              "    }\n",
              "\n",
              "    .dataframe tbody tr th {\n",
              "        vertical-align: top;\n",
              "    }\n",
              "\n",
              "    .dataframe thead th {\n",
              "        text-align: right;\n",
              "    }\n",
              "</style>\n",
              "<table border=\"1\" class=\"dataframe\">\n",
              "  <thead>\n",
              "    <tr style=\"text-align: right;\">\n",
              "      <th></th>\n",
              "      <th>Time</th>\n",
              "      <th>V1</th>\n",
              "      <th>V2</th>\n",
              "      <th>V3</th>\n",
              "      <th>V4</th>\n",
              "      <th>V5</th>\n",
              "      <th>V6</th>\n",
              "      <th>V7</th>\n",
              "      <th>V8</th>\n",
              "      <th>V9</th>\n",
              "      <th>V10</th>\n",
              "      <th>V11</th>\n",
              "      <th>V12</th>\n",
              "      <th>V13</th>\n",
              "      <th>V14</th>\n",
              "      <th>V15</th>\n",
              "      <th>V16</th>\n",
              "      <th>V17</th>\n",
              "      <th>V18</th>\n",
              "      <th>V19</th>\n",
              "      <th>V20</th>\n",
              "      <th>V21</th>\n",
              "      <th>V22</th>\n",
              "      <th>V23</th>\n",
              "      <th>V24</th>\n",
              "      <th>V25</th>\n",
              "      <th>V26</th>\n",
              "      <th>V27</th>\n",
              "      <th>V28</th>\n",
              "      <th>Amount</th>\n",
              "      <th>Class</th>\n",
              "    </tr>\n",
              "  </thead>\n",
              "  <tbody>\n",
              "    <tr>\n",
              "      <th>count</th>\n",
              "      <td>284807.0</td>\n",
              "      <td>284807.0</td>\n",
              "      <td>284807.0</td>\n",
              "      <td>284807.0</td>\n",
              "      <td>284807.0</td>\n",
              "      <td>284807.0</td>\n",
              "      <td>284807.0</td>\n",
              "      <td>284807.0</td>\n",
              "      <td>284807.0</td>\n",
              "      <td>284807.0</td>\n",
              "      <td>284807.0</td>\n",
              "      <td>284807.0</td>\n",
              "      <td>284807.0</td>\n",
              "      <td>284807.0</td>\n",
              "      <td>284807.0</td>\n",
              "      <td>284807.0</td>\n",
              "      <td>284807.0</td>\n",
              "      <td>284807.0</td>\n",
              "      <td>284807.0</td>\n",
              "      <td>284807.0</td>\n",
              "      <td>284807.0</td>\n",
              "      <td>284807.0</td>\n",
              "      <td>284807.0</td>\n",
              "      <td>284807.0</td>\n",
              "      <td>284807.0</td>\n",
              "      <td>284807.0</td>\n",
              "      <td>284807.0</td>\n",
              "      <td>284807.0</td>\n",
              "      <td>284807.0</td>\n",
              "      <td>284807.0</td>\n",
              "      <td>284807.0</td>\n",
              "    </tr>\n",
              "    <tr>\n",
              "      <th>mean</th>\n",
              "      <td>94814.0</td>\n",
              "      <td>0.0</td>\n",
              "      <td>0.0</td>\n",
              "      <td>-0.0</td>\n",
              "      <td>0.0</td>\n",
              "      <td>-0.0</td>\n",
              "      <td>0.0</td>\n",
              "      <td>-0.0</td>\n",
              "      <td>-0.0</td>\n",
              "      <td>-0.0</td>\n",
              "      <td>0.0</td>\n",
              "      <td>0.0</td>\n",
              "      <td>-0.0</td>\n",
              "      <td>0.0</td>\n",
              "      <td>0.0</td>\n",
              "      <td>0.0</td>\n",
              "      <td>0.0</td>\n",
              "      <td>-0.0</td>\n",
              "      <td>0.0</td>\n",
              "      <td>0.0</td>\n",
              "      <td>0.0</td>\n",
              "      <td>0.0</td>\n",
              "      <td>0.0</td>\n",
              "      <td>0.0</td>\n",
              "      <td>0.0</td>\n",
              "      <td>0.0</td>\n",
              "      <td>0.0</td>\n",
              "      <td>-0.0</td>\n",
              "      <td>-0.0</td>\n",
              "      <td>88.0</td>\n",
              "      <td>0.0</td>\n",
              "    </tr>\n",
              "    <tr>\n",
              "      <th>std</th>\n",
              "      <td>47488.0</td>\n",
              "      <td>2.0</td>\n",
              "      <td>2.0</td>\n",
              "      <td>2.0</td>\n",
              "      <td>1.0</td>\n",
              "      <td>1.0</td>\n",
              "      <td>1.0</td>\n",
              "      <td>1.0</td>\n",
              "      <td>1.0</td>\n",
              "      <td>1.0</td>\n",
              "      <td>1.0</td>\n",
              "      <td>1.0</td>\n",
              "      <td>1.0</td>\n",
              "      <td>1.0</td>\n",
              "      <td>1.0</td>\n",
              "      <td>1.0</td>\n",
              "      <td>1.0</td>\n",
              "      <td>1.0</td>\n",
              "      <td>1.0</td>\n",
              "      <td>1.0</td>\n",
              "      <td>1.0</td>\n",
              "      <td>1.0</td>\n",
              "      <td>1.0</td>\n",
              "      <td>1.0</td>\n",
              "      <td>1.0</td>\n",
              "      <td>1.0</td>\n",
              "      <td>0.0</td>\n",
              "      <td>0.0</td>\n",
              "      <td>0.0</td>\n",
              "      <td>250.0</td>\n",
              "      <td>0.0</td>\n",
              "    </tr>\n",
              "    <tr>\n",
              "      <th>min</th>\n",
              "      <td>0.0</td>\n",
              "      <td>-56.0</td>\n",
              "      <td>-73.0</td>\n",
              "      <td>-48.0</td>\n",
              "      <td>-6.0</td>\n",
              "      <td>-114.0</td>\n",
              "      <td>-26.0</td>\n",
              "      <td>-44.0</td>\n",
              "      <td>-73.0</td>\n",
              "      <td>-13.0</td>\n",
              "      <td>-25.0</td>\n",
              "      <td>-5.0</td>\n",
              "      <td>-19.0</td>\n",
              "      <td>-6.0</td>\n",
              "      <td>-19.0</td>\n",
              "      <td>-4.0</td>\n",
              "      <td>-14.0</td>\n",
              "      <td>-25.0</td>\n",
              "      <td>-9.0</td>\n",
              "      <td>-7.0</td>\n",
              "      <td>-54.0</td>\n",
              "      <td>-35.0</td>\n",
              "      <td>-11.0</td>\n",
              "      <td>-45.0</td>\n",
              "      <td>-3.0</td>\n",
              "      <td>-10.0</td>\n",
              "      <td>-3.0</td>\n",
              "      <td>-23.0</td>\n",
              "      <td>-15.0</td>\n",
              "      <td>0.0</td>\n",
              "      <td>0.0</td>\n",
              "    </tr>\n",
              "    <tr>\n",
              "      <th>25%</th>\n",
              "      <td>54202.0</td>\n",
              "      <td>-1.0</td>\n",
              "      <td>-1.0</td>\n",
              "      <td>-1.0</td>\n",
              "      <td>-1.0</td>\n",
              "      <td>-1.0</td>\n",
              "      <td>-1.0</td>\n",
              "      <td>-1.0</td>\n",
              "      <td>-0.0</td>\n",
              "      <td>-1.0</td>\n",
              "      <td>-1.0</td>\n",
              "      <td>-1.0</td>\n",
              "      <td>-0.0</td>\n",
              "      <td>-1.0</td>\n",
              "      <td>-0.0</td>\n",
              "      <td>-1.0</td>\n",
              "      <td>-0.0</td>\n",
              "      <td>-0.0</td>\n",
              "      <td>-0.0</td>\n",
              "      <td>-0.0</td>\n",
              "      <td>-0.0</td>\n",
              "      <td>-0.0</td>\n",
              "      <td>-1.0</td>\n",
              "      <td>-0.0</td>\n",
              "      <td>-0.0</td>\n",
              "      <td>-0.0</td>\n",
              "      <td>-0.0</td>\n",
              "      <td>-0.0</td>\n",
              "      <td>-0.0</td>\n",
              "      <td>6.0</td>\n",
              "      <td>0.0</td>\n",
              "    </tr>\n",
              "    <tr>\n",
              "      <th>50%</th>\n",
              "      <td>84692.0</td>\n",
              "      <td>0.0</td>\n",
              "      <td>0.0</td>\n",
              "      <td>0.0</td>\n",
              "      <td>-0.0</td>\n",
              "      <td>-0.0</td>\n",
              "      <td>-0.0</td>\n",
              "      <td>0.0</td>\n",
              "      <td>0.0</td>\n",
              "      <td>-0.0</td>\n",
              "      <td>-0.0</td>\n",
              "      <td>-0.0</td>\n",
              "      <td>0.0</td>\n",
              "      <td>-0.0</td>\n",
              "      <td>0.0</td>\n",
              "      <td>0.0</td>\n",
              "      <td>0.0</td>\n",
              "      <td>-0.0</td>\n",
              "      <td>-0.0</td>\n",
              "      <td>0.0</td>\n",
              "      <td>-0.0</td>\n",
              "      <td>-0.0</td>\n",
              "      <td>0.0</td>\n",
              "      <td>-0.0</td>\n",
              "      <td>0.0</td>\n",
              "      <td>0.0</td>\n",
              "      <td>-0.0</td>\n",
              "      <td>0.0</td>\n",
              "      <td>0.0</td>\n",
              "      <td>22.0</td>\n",
              "      <td>0.0</td>\n",
              "    </tr>\n",
              "    <tr>\n",
              "      <th>75%</th>\n",
              "      <td>139320.0</td>\n",
              "      <td>1.0</td>\n",
              "      <td>1.0</td>\n",
              "      <td>1.0</td>\n",
              "      <td>1.0</td>\n",
              "      <td>1.0</td>\n",
              "      <td>0.0</td>\n",
              "      <td>1.0</td>\n",
              "      <td>0.0</td>\n",
              "      <td>1.0</td>\n",
              "      <td>0.0</td>\n",
              "      <td>1.0</td>\n",
              "      <td>1.0</td>\n",
              "      <td>1.0</td>\n",
              "      <td>0.0</td>\n",
              "      <td>1.0</td>\n",
              "      <td>1.0</td>\n",
              "      <td>0.0</td>\n",
              "      <td>1.0</td>\n",
              "      <td>0.0</td>\n",
              "      <td>0.0</td>\n",
              "      <td>0.0</td>\n",
              "      <td>1.0</td>\n",
              "      <td>0.0</td>\n",
              "      <td>0.0</td>\n",
              "      <td>0.0</td>\n",
              "      <td>0.0</td>\n",
              "      <td>0.0</td>\n",
              "      <td>0.0</td>\n",
              "      <td>77.0</td>\n",
              "      <td>0.0</td>\n",
              "    </tr>\n",
              "    <tr>\n",
              "      <th>max</th>\n",
              "      <td>172792.0</td>\n",
              "      <td>2.0</td>\n",
              "      <td>22.0</td>\n",
              "      <td>9.0</td>\n",
              "      <td>17.0</td>\n",
              "      <td>35.0</td>\n",
              "      <td>73.0</td>\n",
              "      <td>121.0</td>\n",
              "      <td>20.0</td>\n",
              "      <td>16.0</td>\n",
              "      <td>24.0</td>\n",
              "      <td>12.0</td>\n",
              "      <td>8.0</td>\n",
              "      <td>7.0</td>\n",
              "      <td>11.0</td>\n",
              "      <td>9.0</td>\n",
              "      <td>17.0</td>\n",
              "      <td>9.0</td>\n",
              "      <td>5.0</td>\n",
              "      <td>6.0</td>\n",
              "      <td>39.0</td>\n",
              "      <td>27.0</td>\n",
              "      <td>11.0</td>\n",
              "      <td>23.0</td>\n",
              "      <td>5.0</td>\n",
              "      <td>8.0</td>\n",
              "      <td>4.0</td>\n",
              "      <td>32.0</td>\n",
              "      <td>34.0</td>\n",
              "      <td>25691.0</td>\n",
              "      <td>1.0</td>\n",
              "    </tr>\n",
              "  </tbody>\n",
              "</table>\n",
              "</div>"
            ],
            "text/plain": [
              "           Time        V1        V2  ...       V28    Amount     Class\n",
              "count  284807.0  284807.0  284807.0  ...  284807.0  284807.0  284807.0\n",
              "mean    94814.0       0.0       0.0  ...      -0.0      88.0       0.0\n",
              "std     47488.0       2.0       2.0  ...       0.0     250.0       0.0\n",
              "min         0.0     -56.0     -73.0  ...     -15.0       0.0       0.0\n",
              "25%     54202.0      -1.0      -1.0  ...      -0.0       6.0       0.0\n",
              "50%     84692.0       0.0       0.0  ...       0.0      22.0       0.0\n",
              "75%    139320.0       1.0       1.0  ...       0.0      77.0       0.0\n",
              "max    172792.0       2.0      22.0  ...      34.0   25691.0       1.0\n",
              "\n",
              "[8 rows x 31 columns]"
            ]
          },
          "metadata": {
            "tags": []
          },
          "execution_count": 88
        }
      ]
    },
    {
      "cell_type": "code",
      "metadata": {
        "colab": {
          "base_uri": "https://localhost:8080/"
        },
        "id": "S8VG-bQ6wmb-",
        "outputId": "f497b6c3-fe0f-4dcd-fa31-437c72a28997"
      },
      "source": [
        "#Getting information about data\r\n",
        "data.info()"
      ],
      "execution_count": 89,
      "outputs": [
        {
          "output_type": "stream",
          "text": [
            "<class 'pandas.core.frame.DataFrame'>\n",
            "RangeIndex: 284807 entries, 0 to 284806\n",
            "Data columns (total 31 columns):\n",
            " #   Column  Non-Null Count   Dtype  \n",
            "---  ------  --------------   -----  \n",
            " 0   Time    284807 non-null  float64\n",
            " 1   V1      284807 non-null  float64\n",
            " 2   V2      284807 non-null  float64\n",
            " 3   V3      284807 non-null  float64\n",
            " 4   V4      284807 non-null  float64\n",
            " 5   V5      284807 non-null  float64\n",
            " 6   V6      284807 non-null  float64\n",
            " 7   V7      284807 non-null  float64\n",
            " 8   V8      284807 non-null  float64\n",
            " 9   V9      284807 non-null  float64\n",
            " 10  V10     284807 non-null  float64\n",
            " 11  V11     284807 non-null  float64\n",
            " 12  V12     284807 non-null  float64\n",
            " 13  V13     284807 non-null  float64\n",
            " 14  V14     284807 non-null  float64\n",
            " 15  V15     284807 non-null  float64\n",
            " 16  V16     284807 non-null  float64\n",
            " 17  V17     284807 non-null  float64\n",
            " 18  V18     284807 non-null  float64\n",
            " 19  V19     284807 non-null  float64\n",
            " 20  V20     284807 non-null  float64\n",
            " 21  V21     284807 non-null  float64\n",
            " 22  V22     284807 non-null  float64\n",
            " 23  V23     284807 non-null  float64\n",
            " 24  V24     284807 non-null  float64\n",
            " 25  V25     284807 non-null  float64\n",
            " 26  V26     284807 non-null  float64\n",
            " 27  V27     284807 non-null  float64\n",
            " 28  V28     284807 non-null  float64\n",
            " 29  Amount  284807 non-null  float64\n",
            " 30  Class   284807 non-null  int64  \n",
            "dtypes: float64(30), int64(1)\n",
            "memory usage: 67.4 MB\n"
          ],
          "name": "stdout"
        }
      ]
    },
    {
      "cell_type": "code",
      "metadata": {
        "colab": {
          "base_uri": "https://localhost:8080/"
        },
        "id": "wVm0cTlFuJZf",
        "outputId": "29ef814b-6995-466f-b5ca-6dc884c9d1be"
      },
      "source": [
        "# Determine number of fraud cases in dataset \r\n",
        "fraud = data[data['Class'] == 1] \r\n",
        "valid = data[data['Class'] == 0] \r\n",
        "outlierFraction = len(fraud)/float(len(valid)) \r\n",
        "print(outlierFraction) \r\n",
        "print('Fraud Cases: {}'.format(len(data[data['Class'] == 1]))) \r\n",
        "print('Valid Transactions: {}'.format(len(data[data['Class'] == 0]))) \r\n"
      ],
      "execution_count": 90,
      "outputs": [
        {
          "output_type": "stream",
          "text": [
            "0.0017304750013189597\n",
            "Fraud Cases: 492\n",
            "Valid Transactions: 284315\n"
          ],
          "name": "stdout"
        }
      ]
    },
    {
      "cell_type": "code",
      "metadata": {
        "colab": {
          "base_uri": "https://localhost:8080/"
        },
        "id": "wmwMWVEfuQHS",
        "outputId": "edeaa5e8-a311-4611-b7f5-b2fd16a3ef51"
      },
      "source": [
        "print(\"Amount details of the fraudulent transaction\") \r\n",
        "fraud.Amount.describe() \r\n"
      ],
      "execution_count": 91,
      "outputs": [
        {
          "output_type": "stream",
          "text": [
            "Amount details of the fraudulent transaction\n"
          ],
          "name": "stdout"
        },
        {
          "output_type": "execute_result",
          "data": {
            "text/plain": [
              "count     492.000000\n",
              "mean      122.211321\n",
              "std       256.683288\n",
              "min         0.000000\n",
              "25%         1.000000\n",
              "50%         9.250000\n",
              "75%       105.890000\n",
              "max      2125.870000\n",
              "Name: Amount, dtype: float64"
            ]
          },
          "metadata": {
            "tags": []
          },
          "execution_count": 91
        }
      ]
    },
    {
      "cell_type": "code",
      "metadata": {
        "colab": {
          "base_uri": "https://localhost:8080/"
        },
        "id": "SGSUIMFiuhm3",
        "outputId": "8ac88679-9b84-4c42-ec53-1987f9e2d64c"
      },
      "source": [
        "print(\"details of valid transaction\")\r\n",
        "valid.Amount.describe() \r\n"
      ],
      "execution_count": 92,
      "outputs": [
        {
          "output_type": "stream",
          "text": [
            "details of valid transaction\n"
          ],
          "name": "stdout"
        },
        {
          "output_type": "execute_result",
          "data": {
            "text/plain": [
              "count    284315.000000\n",
              "mean         88.291022\n",
              "std         250.105092\n",
              "min           0.000000\n",
              "25%           5.650000\n",
              "50%          22.000000\n",
              "75%          77.050000\n",
              "max       25691.160000\n",
              "Name: Amount, dtype: float64"
            ]
          },
          "metadata": {
            "tags": []
          },
          "execution_count": 92
        }
      ]
    },
    {
      "cell_type": "code",
      "metadata": {
        "colab": {
          "base_uri": "https://localhost:8080/"
        },
        "id": "A3IBMj7rzYcY",
        "outputId": "bc98c5a4-453e-48d5-dd0e-2232601d3b1e"
      },
      "source": [
        "from sklearn.preprocessing import StandardScaler\r\n",
        "sc = StandardScaler()\r\n",
        "amount = data['Amount'].values\r\n",
        "\r\n",
        "data['Amount'] = sc.fit_transform(amount.reshape(-1, 1))\r\n",
        "\r\n",
        "print(data['Amount'].head(10))\r\n"
      ],
      "execution_count": 93,
      "outputs": [
        {
          "output_type": "stream",
          "text": [
            "0    0.244964\n",
            "1   -0.342475\n",
            "2    1.160686\n",
            "3    0.140534\n",
            "4   -0.073403\n",
            "5   -0.338556\n",
            "6   -0.333279\n",
            "7   -0.190107\n",
            "8    0.019392\n",
            "9   -0.338516\n",
            "Name: Amount, dtype: float64\n"
          ],
          "name": "stdout"
        }
      ]
    },
    {
      "cell_type": "code",
      "metadata": {
        "colab": {
          "base_uri": "https://localhost:8080/",
          "height": 570
        },
        "id": "z5VKEzlDuniU",
        "outputId": "b031d305-e51b-4fec-c549-6ff11e1ba985"
      },
      "source": [
        "# Correlation matrix \r\n",
        "corrmat = data.corr() \r\n",
        "fig = plt.figure(figsize = (12, 9)) \r\n",
        "sns.heatmap(corrmat, vmax = .8, square = True) \r\n",
        "plt.show() \r\n"
      ],
      "execution_count": 94,
      "outputs": [
        {
          "output_type": "display_data",
          "data": {
            "image/png": "[encoded data removed]",
            "text/plain": [
              "<Figure size 864x648 with 2 Axes>"
            ]
          },
          "metadata": {
            "tags": [],
            "needs_background": "light"
          }
        }
      ]
    },
    {
      "cell_type": "code",
      "metadata": {
        "colab": {
          "base_uri": "https://localhost:8080/"
        },
        "id": "jqTgYlfJuybY",
        "outputId": "c79963e3-61f0-48bd-91d6-c56bff92265a"
      },
      "source": [
        "# dividing the X and the Y from the dataset \r\n",
        "X = data.drop(['Class'], axis = 1) \r\n",
        "Y = data[\"Class\"] \r\n",
        "print(X.shape) \r\n",
        "print(Y.shape) \r\n",
        "# getting just the values for the sake of processing \r\n",
        "# (its a numpy array with no columns) \r\n",
        "xData = X.values \r\n",
        "yData = Y.values \r\n"
      ],
      "execution_count": 95,
      "outputs": [
        {
          "output_type": "stream",
          "text": [
            "(284807, 30)\n",
            "(284807,)\n"
          ],
          "name": "stdout"
        }
      ]
    },
    {
      "cell_type": "code",
      "metadata": {
        "id": "U4uinXLWu2Ti"
      },
      "source": [
        "# Using Skicit-learn to split data into training and testing sets \r\n",
        "from sklearn.model_selection import train_test_split \r\n",
        "# Split the data into training and testing sets \r\n",
        "X_train, X_test, y_train, y_test = train_test_split( \r\n",
        "\t\txData, yData, test_size = 0.2, random_state = 42) \r\n"
      ],
      "execution_count": 96,
      "outputs": []
    },
    {
      "cell_type": "code",
      "metadata": {
        "colab": {
          "base_uri": "https://localhost:8080/"
        },
        "id": "nXQz73l-09MU",
        "outputId": "c90074bd-d265-4a56-bea5-880cd27a8369"
      },
      "source": [
        "# MODELING\r\n",
        "\r\n",
        "# 1. Decision Tree\r\n",
        "\r\n",
        "tree_model = DecisionTreeClassifier(max_depth = 4, criterion = 'entropy')\r\n",
        "tree_model.fit(X_train, y_train)\r\n",
        "tree_yhat = tree_model.predict(X_test)\r\n",
        "accuracy_score(y_test, tree_yhat)"
      ],
      "execution_count": 97,
      "outputs": [
        {
          "output_type": "execute_result",
          "data": {
            "text/plain": [
              "0.9994557775359011"
            ]
          },
          "metadata": {
            "tags": []
          },
          "execution_count": 97
        }
      ]
    },
    {
      "cell_type": "code",
      "metadata": {
        "colab": {
          "base_uri": "https://localhost:8080/"
        },
        "id": "mjGYkpme8c4T",
        "outputId": "52eaa5ae-464d-4d98-c875-f15eac4e80ec"
      },
      "source": [
        "f1_score(y_test, tree_yhat)"
      ],
      "execution_count": 98,
      "outputs": [
        {
          "output_type": "execute_result",
          "data": {
            "text/plain": [
              "0.8359788359788359"
            ]
          },
          "metadata": {
            "tags": []
          },
          "execution_count": 98
        }
      ]
    },
    {
      "cell_type": "code",
      "metadata": {
        "id": "b-WXo-nH7Yra"
      },
      "source": [
        "# 2. K-Nearest Neighbors\r\n",
        "\r\n",
        "n = 5\r\n",
        "\r\n",
        "knn = KNeighborsClassifier(n_neighbors = n)\r\n",
        "knn.fit(X_train, y_train)\r\n",
        "knn_yhat = knn.predict(X_test)"
      ],
      "execution_count": 99,
      "outputs": []
    },
    {
      "cell_type": "code",
      "metadata": {
        "colab": {
          "base_uri": "https://localhost:8080/"
        },
        "id": "zlxM22jG8h3k",
        "outputId": "1a37169a-0ddd-4aa3-a7dd-ffa415be3dbe"
      },
      "source": [
        "print(accuracy_score(y_test, knn_yhat))\r\n",
        "print(f1_score(y_test, knn_yhat))"
      ],
      "execution_count": 100,
      "outputs": [
        {
          "output_type": "stream",
          "text": [
            "0.9984551104244935\n",
            "0.1851851851851852\n"
          ],
          "name": "stdout"
        }
      ]
    },
    {
      "cell_type": "code",
      "metadata": {
        "colab": {
          "base_uri": "https://localhost:8080/"
        },
        "id": "rGZuQF2v7vgM",
        "outputId": "6cfad5ca-aaf9-4683-e686-a1e8554e74d0"
      },
      "source": [
        "# 3. Logistic Regression\r\n",
        "\r\n",
        "lr = LogisticRegression()\r\n",
        "lr.fit(X_train, y_train)\r\n",
        "lr_yhat = lr.predict(X_test)\r\n"
      ],
      "execution_count": 101,
      "outputs": [
        {
          "output_type": "stream",
          "text": [
            "/usr/local/lib/python3.6/dist-packages/sklearn/linear_model/_logistic.py:940: ConvergenceWarning: lbfgs failed to converge (status=1):\n",
            "STOP: TOTAL NO. of ITERATIONS REACHED LIMIT.\n",
            "\n",
            "Increase the number of iterations (max_iter) or scale the data as shown in:\n",
            "    https://scikit-learn.org/stable/modules/preprocessing.html\n",
            "Please also refer to the documentation for alternative solver options:\n",
            "    https://scikit-learn.org/stable/modules/linear_model.html#logistic-regression\n",
            "  extra_warning_msg=_LOGISTIC_SOLVER_CONVERGENCE_MSG)\n"
          ],
          "name": "stderr"
        }
      ]
    },
    {
      "cell_type": "code",
      "metadata": {
        "colab": {
          "base_uri": "https://localhost:8080/"
        },
        "id": "8MnN98wj8vag",
        "outputId": "eeae13e8-09c4-4558-ef1e-d9bdbefda75f"
      },
      "source": [
        "print(accuracy_score(y_test, lr_yhat))\r\n",
        "print(f1_score(y_test, lr_yhat))"
      ],
      "execution_count": 102,
      "outputs": [
        {
          "output_type": "stream",
          "text": [
            "0.9985955549313578\n",
            "0.5744680851063829\n"
          ],
          "name": "stdout"
        }
      ]
    },
    {
      "cell_type": "code",
      "metadata": {
        "id": "CVYIJ5-K7mHf"
      },
      "source": [
        "# 4. SVM \r\n",
        "\r\n",
        "svm = SVC()\r\n",
        "svm.fit(X_train, y_train)\r\n",
        "svm_yhat = svm.predict(X_test)"
      ],
      "execution_count": 103,
      "outputs": []
    },
    {
      "cell_type": "code",
      "metadata": {
        "colab": {
          "base_uri": "https://localhost:8080/"
        },
        "id": "NAZ51JOz80V1",
        "outputId": "a37baab6-4575-44e2-eb97-956d8ec9df2a"
      },
      "source": [
        "print(accuracy_score(y_test, svm_yhat))\r\n",
        "print(f1_score(y_test, svm_yhat))"
      ],
      "execution_count": 104,
      "outputs": [
        {
          "output_type": "stream",
          "text": [
            "0.9982795547909132\n",
            "0.0\n"
          ],
          "name": "stdout"
        }
      ]
    },
    {
      "cell_type": "code",
      "metadata": {
        "id": "r5x-z4ah7fTh"
      },
      "source": [
        "# 5. Random Forest Tree\r\n",
        "\r\n",
        "rf = RandomForestClassifier(max_depth = 4)\r\n",
        "rf.fit(X_train, y_train)\r\n",
        "rf_yhat = rf.predict(X_test)"
      ],
      "execution_count": 105,
      "outputs": []
    },
    {
      "cell_type": "code",
      "metadata": {
        "colab": {
          "base_uri": "https://localhost:8080/"
        },
        "id": "pdkTABrz86Lw",
        "outputId": "b430c699-d413-4757-8406-642c6ec16d47"
      },
      "source": [
        "print(accuracy_score(y_test, rf_yhat))\r\n",
        "print(f1_score(y_test, rf_yhat))"
      ],
      "execution_count": 106,
      "outputs": [
        {
          "output_type": "stream",
          "text": [
            "0.9993328885923949\n",
            "0.7738095238095238\n"
          ],
          "name": "stdout"
        }
      ]
    },
    {
      "cell_type": "code",
      "metadata": {
        "id": "G2Bp-j5B7cmB"
      },
      "source": [
        "# 6. XGBoost\r\n",
        "\r\n",
        "xgb = XGBClassifier(max_depth = 4)\r\n",
        "xgb.fit(X_train, y_train)\r\n",
        "xgb_yhat = xgb.predict(X_test)"
      ],
      "execution_count": 107,
      "outputs": []
    },
    {
      "cell_type": "code",
      "metadata": {
        "colab": {
          "base_uri": "https://localhost:8080/"
        },
        "id": "PxmJhvM99AE4",
        "outputId": "942bc7cb-f0ec-405d-bc5f-b6d7b893335e"
      },
      "source": [
        "print(accuracy_score(y_test, xgb_yhat))\r\n",
        "print(f1_score(y_test, xgb_yhat))"
      ],
      "execution_count": 108,
      "outputs": [
        {
          "output_type": "stream",
          "text": [
            "0.9996488887328394\n",
            "0.8901098901098902\n"
          ],
          "name": "stdout"
        }
      ]
    },
    {
      "cell_type": "code",
      "metadata": {
        "colab": {
          "base_uri": "https://localhost:8080/"
        },
        "id": "skqL3F4o3C_G",
        "outputId": "4dca45c5-e8a4-44f9-daa0-ca7b9e3c665d"
      },
      "source": [
        "# 1. Accuracy score\r\n",
        "\r\n",
        "print('ACCURACY SCORE')\r\n",
        "\r\n",
        "print('Accuracy score of the Decision Tree model is {}'.format(accuracy_score(y_test, tree_yhat)))\r\n",
        "print('------------------------------------------------------------------------')\r\n",
        "print('Accuracy score of the KNN model is {}'.format(accuracy_score(y_test, knn_yhat)))\r\n",
        "print('------------------------------------------------------------------------')\r\n",
        "print('Accuracy score of the Logistic Regression model is {}'.format(accuracy_score(y_test, lr_yhat)))\r\n",
        "print('------------------------------------------------------------------------')\r\n",
        "print('Accuracy score of the SVM model is {}'.format(accuracy_score(y_test, svm_yhat)))\r\n",
        "print('------------------------------------------------------------------------')\r\n",
        "print('Accuracy score of the Random Forest Tree model is {}'.format(accuracy_score(y_test, rf_yhat)))\r\n",
        "print('------------------------------------------------------------------------')\r\n",
        "print('Accuracy score of the XGBoost model is {}'.format(accuracy_score(y_test, xgb_yhat)))\r\n",
        "print('------------------------------------------------------------------------')\r\n"
      ],
      "execution_count": 109,
      "outputs": [
        {
          "output_type": "stream",
          "text": [
            "ACCURACY SCORE\n",
            "Accuracy score of the Decision Tree model is 0.9994557775359011\n",
            "------------------------------------------------------------------------\n",
            "Accuracy score of the KNN model is 0.9984551104244935\n",
            "------------------------------------------------------------------------\n",
            "Accuracy score of the Logistic Regression model is 0.9985955549313578\n",
            "------------------------------------------------------------------------\n",
            "Accuracy score of the SVM model is 0.9982795547909132\n",
            "------------------------------------------------------------------------\n",
            "Accuracy score of the Random Forest Tree model is 0.9993328885923949\n",
            "------------------------------------------------------------------------\n",
            "Accuracy score of the XGBoost model is 0.9996488887328394\n",
            "------------------------------------------------------------------------\n"
          ],
          "name": "stdout"
        }
      ]
    },
    {
      "cell_type": "code",
      "metadata": {
        "colab": {
          "base_uri": "https://localhost:8080/"
        },
        "id": "HOzqlvXu4FvZ",
        "outputId": "06a0949f-d35d-47ee-cf4d-92122cd1b2ec"
      },
      "source": [
        "# 1. Accuracy score\r\n",
        "\r\n",
        "print('F1 SCORE')\r\n",
        "\r\n",
        "print('F1 score of the Decision Tree model is {}'.format(f1_score(y_test, tree_yhat)))\r\n",
        "print('------------------------------------------------------------------------')\r\n",
        "print('F1 score of the KNN model is {}'.format(f1_score(y_test, knn_yhat)))\r\n",
        "print('------------------------------------------------------------------------')\r\n",
        "print('F1 score of the Logistic Regression model is {}'.format(f1_score(y_test, lr_yhat)))\r\n",
        "print('------------------------------------------------------------------------')\r\n",
        "print('F1 score of the SVM model is {}'.format(f1_score(y_test, svm_yhat)))\r\n",
        "print('------------------------------------------------------------------------')\r\n",
        "print('F1 score of the Random Forest Tree model is {}'.format(f1_score(y_test, rf_yhat)))\r\n",
        "print('------------------------------------------------------------------------')\r\n",
        "print('F1 score of the XGBoost model is {}'.format(f1_score(y_test, xgb_yhat)))\r\n",
        "print('------------------------------------------------------------------------')\r\n"
      ],
      "execution_count": 110,
      "outputs": [
        {
          "output_type": "stream",
          "text": [
            "F1 SCORE\n",
            "F1 score of the Decision Tree model is 0.8359788359788359\n",
            "------------------------------------------------------------------------\n",
            "F1 score of the KNN model is 0.1851851851851852\n",
            "------------------------------------------------------------------------\n",
            "F1 score of the Logistic Regression model is 0.5744680851063829\n",
            "------------------------------------------------------------------------\n",
            "F1 score of the SVM model is 0.0\n",
            "------------------------------------------------------------------------\n",
            "F1 score of the Random Forest Tree model is 0.7738095238095238\n",
            "------------------------------------------------------------------------\n",
            "F1 score of the XGBoost model is 0.8901098901098902\n",
            "------------------------------------------------------------------------\n"
          ],
          "name": "stdout"
        }
      ]
    },
    {
      "cell_type": "code",
      "metadata": {
        "colab": {
          "base_uri": "https://localhost:8080/"
        },
        "id": "QGiMO1wv2kSw",
        "outputId": "46d33403-91b0-4b8c-e696-44a73f86ef9e"
      },
      "source": [
        "accuracy_score(y_test, tree_yhat)"
      ],
      "execution_count": 111,
      "outputs": [
        {
          "output_type": "execute_result",
          "data": {
            "text/plain": [
              "0.9994557775359011"
            ]
          },
          "metadata": {
            "tags": []
          },
          "execution_count": 111
        }
      ]
    },
    {
      "cell_type": "code",
      "metadata": {
        "colab": {
          "base_uri": "https://localhost:8080/",
          "height": 350
        },
        "id": "N_V2clPax_yT",
        "outputId": "475d49a1-55a0-47c5-8753-7a0d38d6dd38"
      },
      "source": [
        "# printing the confusion matrix \r\n",
        "LABELS = ['Normal', 'Fraud'] \r\n",
        "conf_matrix = confusion_matrix(y_test, tree_yhat) \r\n",
        "plt.figure(figsize =(5,5)) \r\n",
        "sns.heatmap(conf_matrix, xticklabels = LABELS, \r\n",
        "\t\t\tyticklabels = LABELS, annot = True, fmt =\"d\"); \r\n",
        "plt.title(\"Confusion matrix\") \r\n",
        "plt.ylabel('True class') \r\n",
        "plt.xlabel('Predicted class') \r\n",
        "plt.show() \r\n"
      ],
      "execution_count": 112,
      "outputs": [
        {
          "output_type": "display_data",
          "data": {
            "image/png": "[encoded data removed]",
            "text/plain": [
              "<Figure size 360x360 with 2 Axes>"
            ]
          },
          "metadata": {
            "tags": [],
            "needs_background": "light"
          }
        }
      ]
    },
    {
      "cell_type": "code",
      "metadata": {
        "colab": {
          "base_uri": "https://localhost:8080/",
          "height": 350
        },
        "id": "KK5cUMjb5qMN",
        "outputId": "dbf61d36-7711-4483-9c11-04c555fab135"
      },
      "source": [
        "# printing the confusion matrix \r\n",
        "LABELS = ['Normal', 'Fraud'] \r\n",
        "conf_matrix = confusion_matrix(y_test, knn_yhat) \r\n",
        "plt.figure(figsize =(5,5)) \r\n",
        "sns.heatmap(conf_matrix, xticklabels = LABELS, \r\n",
        "\t\t\tyticklabels = LABELS, annot = True, fmt =\"d\"); \r\n",
        "plt.title(\"Confusion matrix\") \r\n",
        "plt.ylabel('True class') \r\n",
        "plt.xlabel('Predicted class') \r\n",
        "plt.show() \r\n"
      ],
      "execution_count": 113,
      "outputs": [
        {
          "output_type": "display_data",
          "data": {
            "image/png": "[encoded data removed]",
            "text/plain": [
              "<Figure size 360x360 with 2 Axes>"
            ]
          },
          "metadata": {
            "tags": [],
            "needs_background": "light"
          }
        }
      ]
    },
    {
      "cell_type": "code",
      "metadata": {
        "colab": {
          "base_uri": "https://localhost:8080/",
          "height": 350
        },
        "id": "uNsksydC5qOb",
        "outputId": "fea0f9c1-d055-4904-953d-c94189fba0c1"
      },
      "source": [
        "# printing the confusion matrix \r\n",
        "LABELS = ['Normal', 'Fraud'] \r\n",
        "conf_matrix = confusion_matrix(y_test, lr_yhat) \r\n",
        "plt.figure(figsize =(5,5)) \r\n",
        "sns.heatmap(conf_matrix, xticklabels = LABELS, \r\n",
        "\t\t\tyticklabels = LABELS, annot = True, fmt =\"d\"); \r\n",
        "plt.title(\"Confusion matrix\") \r\n",
        "plt.ylabel('True class') \r\n",
        "plt.xlabel('Predicted class') \r\n",
        "plt.show() \r\n"
      ],
      "execution_count": 114,
      "outputs": [
        {
          "output_type": "display_data",
          "data": {
            "image/png": "[encoded data removed]",
            "text/plain": [
              "<Figure size 360x360 with 2 Axes>"
            ]
          },
          "metadata": {
            "tags": [],
            "needs_background": "light"
          }
        }
      ]
    },
    {
      "cell_type": "code",
      "metadata": {
        "colab": {
          "base_uri": "https://localhost:8080/",
          "height": 350
        },
        "id": "nfDgd6Au5qSy",
        "outputId": "176cbd45-7dff-43b5-b924-beb206cfaf2e"
      },
      "source": [
        "# printing the confusion matrix \r\n",
        "LABELS = ['Normal', 'Fraud'] \r\n",
        "conf_matrix = confusion_matrix(y_test, svm_yhat) \r\n",
        "plt.figure(figsize =(5,5)) \r\n",
        "sns.heatmap(conf_matrix, xticklabels = LABELS, \r\n",
        "\t\t\tyticklabels = LABELS, annot = True, fmt =\"d\"); \r\n",
        "plt.title(\"Confusion matrix\") \r\n",
        "plt.ylabel('True class') \r\n",
        "plt.xlabel('Predicted class') \r\n",
        "plt.show() \r\n"
      ],
      "execution_count": 115,
      "outputs": [
        {
          "output_type": "display_data",
          "data": {
            "image/png": "[encoded data removed]",
            "text/plain": [
              "<Figure size 360x360 with 2 Axes>"
            ]
          },
          "metadata": {
            "tags": [],
            "needs_background": "light"
          }
        }
      ]
    },
    {
      "cell_type": "code",
      "metadata": {
        "colab": {
          "base_uri": "https://localhost:8080/",
          "height": 350
        },
        "id": "gnNeTAc-5qVr",
        "outputId": "e5853477-0754-47e3-c43b-8a120e59479a"
      },
      "source": [
        "# printing the confusion matrix \r\n",
        "LABELS = ['Normal', 'Fraud'] \r\n",
        "conf_matrix = confusion_matrix(y_test, rf_yhat) \r\n",
        "plt.figure(figsize =(5,5)) \r\n",
        "sns.heatmap(conf_matrix, xticklabels = LABELS, \r\n",
        "\t\t\tyticklabels = LABELS, annot = True, fmt =\"d\"); \r\n",
        "plt.title(\"Confusion matrix\") \r\n",
        "plt.ylabel('True class') \r\n",
        "plt.xlabel('Predicted class') \r\n",
        "plt.show() "
      ],
      "execution_count": 116,
      "outputs": [
        {
          "output_type": "display_data",
          "data": {
            "image/png": "[encoded data removed]",
            "text/plain": [
              "<Figure size 360x360 with 2 Axes>"
            ]
          },
          "metadata": {
            "tags": [],
            "needs_background": "light"
          }
        }
      ]
    },
    {
      "cell_type": "code",
      "metadata": {
        "colab": {
          "base_uri": "https://localhost:8080/",
          "height": 350
        },
        "id": "zQ4NGFYt6Q2j",
        "outputId": "43c27c37-a642-489f-cb1c-17bfcf9e4d48"
      },
      "source": [
        "# printing the confusion matrix \r\n",
        "LABELS = ['Normal', 'Fraud'] \r\n",
        "conf_matrix = confusion_matrix(y_test, xgb_yhat) \r\n",
        "plt.figure(figsize =(5,5)) \r\n",
        "sns.heatmap(conf_matrix, xticklabels = LABELS, \r\n",
        "\t\t\tyticklabels = LABELS, annot = True, fmt =\"d\"); \r\n",
        "plt.title(\"Confusion matrix\") \r\n",
        "plt.ylabel('True class') \r\n",
        "plt.xlabel('Predicted class') \r\n",
        "plt.show() "
      ],
      "execution_count": 117,
      "outputs": [
        {
          "output_type": "display_data",
          "data": {
            "image/png": "[encoded data removed]",
            "text/plain": [
              "<Figure size 360x360 with 2 Axes>"
            ]
          },
          "metadata": {
            "tags": [],
            "needs_background": "light"
          }
        }
      ]
    }
  ]
}